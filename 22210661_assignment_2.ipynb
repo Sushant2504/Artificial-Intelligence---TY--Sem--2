{
 "cells": [
  {
   "cell_type": "code",
   "execution_count": 2,
   "metadata": {},
   "outputs": [
    {
     "name": "stdout",
     "output_type": "stream",
     "text": [
      "The given initial state is unsolvable.\n"
     ]
    }
   ],
   "source": [
    "from collections import deque\n",
    "\n",
    "def is_solvable(state):\n",
    "    \"\"\"Checks if the given 8-puzzle state is solvable.\"\"\"\n",
    "    inversions = 0\n",
    "    for i in range(8):\n",
    "        for j in range(i + 1, 9):\n",
    "            if state[i] and state[j] and state[i] > state[j]:\n",
    "                inversions += 1\n",
    "    return inversions % 2 == 0\n",
    "\n",
    "def find_empty_tile(state):\n",
    "    \"\"\"Finds the index of the empty tile (0) in the state.\"\"\"\n",
    "    for i in range(9):\n",
    "        if state[i] == 0:\n",
    "            return i\n",
    "\n",
    "def get_successors(state):\n",
    "    \"\"\"Generates all possible successor states by moving the empty tile.\"\"\"\n",
    "    empty_tile = find_empty_tile(state)\n",
    "    row = empty_tile // 3\n",
    "    col = empty_tile % 3\n",
    "    successors = []\n",
    "\n",
    "    # Possible moves: up, down, left, right\n",
    "    moves = [(row - 1, col), (row + 1, col), (row, col - 1), (row, col + 1)]\n",
    "\n",
    "    for new_row, new_col in moves:\n",
    "        if 0 <= new_row < 3 and 0 <= new_col < 3:\n",
    "            new_state = state[:]  # Create a copy of the state\n",
    "            new_index = new_row * 3 + new_col\n",
    "            new_state[empty_tile], new_state[new_index] = new_state[new_index], new_state[empty_tile]\n",
    "            successors.append(new_state)\n",
    "\n",
    "    return successors\n",
    "\n",
    "def bfs(initial_state, goal_state):\n",
    "    \"\"\"Performs Breadth-First Search to solve the 8-puzzle.\"\"\"\n",
    "    if not is_solvable(initial_state):\n",
    "        return \"Unsolvable\"\n",
    "\n",
    "    queue = deque([initial_state])\n",
    "    visited = set()\n",
    "    parent = {}\n",
    "\n",
    "    while queue:\n",
    "        current_state = queue.popleft()\n",
    "        visited.add(tuple(current_state))\n",
    "\n",
    "        if current_state == goal_state:\n",
    "            path = []\n",
    "            while current_state in parent:\n",
    "                path.insert(0, current_state)\n",
    "                current_state = parent[current_state]\n",
    "            path.insert(0, initial_state)\n",
    "            return path\n",
    "\n",
    "        for successor in get_successors(current_state):\n",
    "            if tuple(successor) not in visited:\n",
    "                queue.append(successor)\n",
    "                parent[tuple(successor)] = current_state\n",
    "\n",
    "    return \"No solution found\"\n",
    "\n",
    "# Example usage:\n",
    "initial_state = [2, 8, 3, 1, 6, 4, 7, 0, 5]\n",
    "goal_state = [1, 2, 3, 8, 0, 4, 7, 6, 5]\n",
    "\n",
    "solution = bfs(initial_state, goal_state)\n",
    "\n",
    "if solution == \"Unsolvable\":\n",
    "    print(\"The given initial state is unsolvable.\")\n",
    "elif solution == \"No solution found\":\n",
    "    print(\"No solution found within the search limit.\")\n",
    "else:\n",
    "    print(\"Solution found:\")\n",
    "    for state in solution:\n",
    "        print(state)"
   ]
  },
  {
   "cell_type": "code",
   "execution_count": null,
   "metadata": {},
   "outputs": [],
   "source": []
  }
 ],
 "metadata": {
  "kernelspec": {
   "display_name": "Python 3",
   "language": "python",
   "name": "python3"
  },
  "language_info": {
   "codemirror_mode": {
    "name": "ipython",
    "version": 3
   },
   "file_extension": ".py",
   "mimetype": "text/x-python",
   "name": "python",
   "nbconvert_exporter": "python",
   "pygments_lexer": "ipython3",
   "version": "3.12.6"
  }
 },
 "nbformat": 4,
 "nbformat_minor": 2
}
