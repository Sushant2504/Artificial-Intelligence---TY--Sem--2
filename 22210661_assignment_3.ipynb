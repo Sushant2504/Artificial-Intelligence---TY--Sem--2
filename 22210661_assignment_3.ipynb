{
 "cells": [
  {
   "cell_type": "code",
   "execution_count": 2,
   "metadata": {},
   "outputs": [],
   "source": [
    "import heapq\n",
    "\n",
    "def is_solvable(state):\n",
    "    \"\"\"Checks if the given 8-puzzle state is solvable.\"\"\"\n",
    "    inversions = 0\n",
    "    for i in range(8):\n",
    "        for j in range(i + 1, 9):\n",
    "            if state[i] and state[j] and state[i] > state[j]:\n",
    "                inversions += 1\n",
    "    return inversions % 2 == 0\n",
    "\n",
    "def find_empty_tile(state):\n",
    "    \"\"\"Finds the index of the empty tile (0) in the state.\"\"\"\n",
    "    for i in range(9):\n",
    "        if state[i] == 0:\n",
    "            return i\n",
    "\n",
    "def get_successors(state):\n",
    "    \"\"\"Generates all possible successor states by moving the empty tile.\"\"\"\n",
    "    empty_tile = find_empty_tile(state)\n",
    "    row = empty_tile // 3\n",
    "    col = empty_tile % 3\n",
    "    successors = []\n",
    "\n",
    "    # Possible moves: up, down, left, right\n",
    "    moves = [(row - 1, col), (row + 1, col), (row, col - 1), (row, col + 1)]\n",
    "\n",
    "    for new_row, new_col in moves:\n",
    "        if 0 <= new_row < 3 and 0 <= new_col < 3:\n",
    "            new_state = state[:]  # Create a copy of the state\n",
    "            new_index = new_row * 3 + new_col\n",
    "            new_state[empty_tile], new_state[new_index] = new_state[new_index], new_state[empty_tile]\n",
    "            successors.append(new_state)\n",
    "\n",
    "    return successors\n",
    "\n",
    "def manhattan_distance(state):\n",
    "    \"\"\"Calculates the Manhattan distance heuristic.\"\"\"\n",
    "    goal_state = [1, 2, 3, 8, 0, 4, 7, 6, 5] \n",
    "    distance = 0\n",
    "    for i in range(9):\n",
    "        if state[i] != 0:\n",
    "            goal_row, goal_col = divmod(goal_state)"
   ]
  },
  {
   "cell_type": "code",
   "execution_count": null,
   "metadata": {},
   "outputs": [],
   "source": []
  }
 ],
 "metadata": {
  "kernelspec": {
   "display_name": "Python 3",
   "language": "python",
   "name": "python3"
  },
  "language_info": {
   "codemirror_mode": {
    "name": "ipython",
    "version": 3
   },
   "file_extension": ".py",
   "mimetype": "text/x-python",
   "name": "python",
   "nbconvert_exporter": "python",
   "pygments_lexer": "ipython3",
   "version": "3.12.6"
  }
 },
 "nbformat": 4,
 "nbformat_minor": 2
}
